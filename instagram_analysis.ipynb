{
 "cells": [
  {
   "cell_type": "code",
   "execution_count": 128,
   "metadata": {},
   "outputs": [],
   "source": [
    "import pandas as pd\n",
    "import matplotlib.pyplot as plt\n",
    "import numpy as np\n",
    "import math\n",
    "connections = pd.read_json(\"Desktop/instagram_data/irenemxu_20201004_part_1/connections.json\")\n",
    "comments = pd.read_json(\"Desktop/instagram_data/irenemxu_20201004_part_1/comments.json\")\n",
    "likes = pd.read_json(\"Desktop/instagram_data/irenemxu_20201004_part_1/likes.json\", orient = \"index\")\n",
    "likes = likes.transpose()\n",
    "messages = pd.read_json(\"Desktop/instagram_data/irenemxu_20201004_part_1/messages.json\")"
   ]
  },
  {
   "cell_type": "code",
   "execution_count": 129,
   "metadata": {},
   "outputs": [],
   "source": [
    "followers = connections[\"followers\"]\n",
    "following = connections[\"following\"]\n",
    "blocked_users = connections[\"blocked_users\"]\n",
    "follow_requests_sent = connections[\"follow_requests_sent\"]\n"
   ]
  },
  {
   "cell_type": "code",
   "execution_count": 130,
   "metadata": {},
   "outputs": [
    {
     "data": {
      "text/plain": [
       "['2020-10-04T19:29:06+00:00', 'Aw cute', 'nes_che_']"
      ]
     },
     "execution_count": 130,
     "metadata": {},
     "output_type": "execute_result"
    }
   ],
   "source": [
    "messages_participants = messages[\"participants\"]\n",
    "messages_content = messages[\"conversation\"]\n",
    "media_likes = likes[\"media_likes\"]\n",
    "comment_likes = likes[\"comment_likes\"]\n",
    "media_comments = comments[\"media_comments\"]\n",
    "\n",
    "#person and you \n",
    "messages_participants[0]\n",
    "#person dm convo with\n",
    "friends = messages_participants[0][0]\n",
    "#a ton of stuff (total history of dm convo)\n",
    "messages_content[0]\n",
    "#each individual dm message\n",
    "messages_content[0][0]\n",
    "#actual message of dm message\n",
    "messages_content[0][0][\"text\"]\n",
    "#timestamp of dm message\n",
    "messages_content[0][0][\"created_at\"]\n",
    "\n",
    "\n",
    "#when and whose post you liked\n",
    "media_likes[0]\n",
    "#when you liked the post\n",
    "media_likes[0][0]\n",
    "#whose post you liked\n",
    "media_likes[0][1]\n",
    "#[0][0] timestamp of comment like and [0][1] is the person's comment you liked\n",
    "comment_likes[0]\n",
    "\n",
    "\n",
    "#timestamp [0][0], comment [0][1], and owner of post [0][2]\n",
    "media_comments[0]\n"
   ]
  },
  {
   "cell_type": "code",
   "execution_count": 131,
   "metadata": {},
   "outputs": [],
   "source": [
    "followers_names = followers.index.values"
   ]
  },
  {
   "cell_type": "code",
   "execution_count": 132,
   "metadata": {},
   "outputs": [
    {
     "data": {
      "text/plain": [
       "1406"
      ]
     },
     "execution_count": 132,
     "metadata": {},
     "output_type": "execute_result"
    }
   ],
   "source": [
    "following_names = following.index.values\n",
    "following_names.size"
   ]
  },
  {
   "cell_type": "code",
   "execution_count": 133,
   "metadata": {},
   "outputs": [
    {
     "data": {
      "text/plain": [
       "['snackpass',\n",
       " 'noemiguerra01',\n",
       " 'adamzapatka',\n",
       " 'yalecollegecouncil',\n",
       " 'john_wahlig',\n",
       " 'regina._.sung',\n",
       " '6_hithysh',\n",
       " 'spencerrmcintyre',\n",
       " 'kalieching',\n",
       " 'ella.miesner',\n",
       " 'andre_nonaka',\n",
       " 'yaleactualweeklynews',\n",
       " 'ntseniors2020',\n",
       " 'abel_yk3',\n",
       " 'yale',\n",
       " 'yalerecord',\n",
       " 'redemption.prom',\n",
       " 'yale2024bios',\n",
       " 'yalebulldogs2024',\n",
       " 'yesweekend2020',\n",
       " 's.mellinghoff',\n",
       " 'nidhi.dhupati',\n",
       " 'retroman2',\n",
       " 'buzzfeednews',\n",
       " 'alicesneild',\n",
       " 'erindonohue.c',\n",
       " 'newtrier203',\n",
       " 'saraali125',\n",
       " 'mat.cra',\n",
       " 'cj.dunkin',\n",
       " 'merydc_']"
      ]
     },
     "execution_count": 133,
     "metadata": {},
     "output_type": "execute_result"
    }
   ],
   "source": [
    "not_following = []\n",
    "counter = 0\n",
    "flag_following = False\n",
    "for i in range(len(followers)):\n",
    "    if (not isinstance(followers[i],str)) and (not isinstance(blocked_users[i],str)):\n",
    "        if (not isinstance(follow_requests_sent[i],str)):\n",
    "            not_following.append(followers_names[i])\n",
    "        \n",
    "not_following"
   ]
  },
  {
   "cell_type": "code",
   "execution_count": null,
   "metadata": {},
   "outputs": [],
   "source": []
  }
 ],
 "metadata": {
  "kernelspec": {
   "display_name": "Python 3",
   "language": "python",
   "name": "python3"
  },
  "language_info": {
   "codemirror_mode": {
    "name": "ipython",
    "version": 3
   },
   "file_extension": ".py",
   "mimetype": "text/x-python",
   "name": "python",
   "nbconvert_exporter": "python",
   "pygments_lexer": "ipython3",
   "version": "3.8.3"
  }
 },
 "nbformat": 4,
 "nbformat_minor": 4
}
